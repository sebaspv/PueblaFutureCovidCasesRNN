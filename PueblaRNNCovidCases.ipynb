{
  "nbformat": 4,
  "nbformat_minor": 0,
  "metadata": {
    "colab": {
      "name": "PueblaRNNCovidCases.ipynb",
      "provenance": [],
      "authorship_tag": "ABX9TyPFW/8ZT6mEd0Qp2FmPC/qg",
      "include_colab_link": true
    },
    "kernelspec": {
      "name": "python3",
      "display_name": "Python 3"
    }
  },
  "cells": [
    {
      "cell_type": "markdown",
      "metadata": {
        "id": "view-in-github",
        "colab_type": "text"
      },
      "source": [
        "<a href=\"https://colab.research.google.com/github/sebaspv/PueblaFutureCovidCasesRNN/blob/master/PueblaRNNCovidCases.ipynb\" target=\"_parent\"><img src=\"https://colab.research.google.com/assets/colab-badge.svg\" alt=\"Open In Colab\"/></a>"
      ]
    },
    {
      "cell_type": "code",
      "metadata": {
        "id": "g0HVD2Vk0ktP",
        "colab_type": "code",
        "colab": {}
      },
      "source": [
        "from google.colab import drive\n",
        "#data source = https://coronavirus.gob.mx/datos/#DOView\n"
      ],
      "execution_count": 1,
      "outputs": []
    },
    {
      "cell_type": "code",
      "metadata": {
        "id": "EQ7v5MRUxtzE",
        "colab_type": "code",
        "colab": {
          "base_uri": "https://localhost:8080/",
          "height": 34
        },
        "outputId": "ec991509-fb21-4aca-9198-29600a374853"
      },
      "source": [
        "drive.mount('/content/gdrive/')"
      ],
      "execution_count": 2,
      "outputs": [
        {
          "output_type": "stream",
          "text": [
            "Mounted at /content/gdrive/\n"
          ],
          "name": "stdout"
        }
      ]
    },
    {
      "cell_type": "code",
      "metadata": {
        "id": "vFhlPg1T0pTh",
        "colab_type": "code",
        "colab": {}
      },
      "source": [
        "data_dir = '/content/gdrive/My Drive'"
      ],
      "execution_count": 3,
      "outputs": []
    },
    {
      "cell_type": "code",
      "metadata": {
        "id": "OWhFPg7W0-C3",
        "colab_type": "code",
        "colab": {}
      },
      "source": [
        "import pandas as pd\n",
        "import numpy as np\n",
        "import matplotlib.pyplot as plt\n"
      ],
      "execution_count": 4,
      "outputs": []
    },
    {
      "cell_type": "code",
      "metadata": {
        "id": "XqyoxfZ31625",
        "colab_type": "code",
        "colab": {}
      },
      "source": [
        "daily_cases = pd.read_csv(data_dir+'/Casos_Diarios_Estado_Nacional_Confirmados_20200913.csv')"
      ],
      "execution_count": 5,
      "outputs": []
    },
    {
      "cell_type": "code",
      "metadata": {
        "id": "I3pFeu4t4oes",
        "colab_type": "code",
        "colab": {
          "base_uri": "https://localhost:8080/",
          "height": 592
        },
        "outputId": "6b165636-b71f-429c-ae58-e9e17ed573cb"
      },
      "source": [
        "daily_cases = daily_cases.transpose()\n",
        "daily_cases"
      ],
      "execution_count": 6,
      "outputs": [
        {
          "output_type": "execute_result",
          "data": {
            "text/html": [
              "<div>\n",
              "<style scoped>\n",
              "    .dataframe tbody tr th:only-of-type {\n",
              "        vertical-align: middle;\n",
              "    }\n",
              "\n",
              "    .dataframe tbody tr th {\n",
              "        vertical-align: top;\n",
              "    }\n",
              "\n",
              "    .dataframe thead th {\n",
              "        text-align: right;\n",
              "    }\n",
              "</style>\n",
              "<table border=\"1\" class=\"dataframe\">\n",
              "  <thead>\n",
              "    <tr style=\"text-align: right;\">\n",
              "      <th></th>\n",
              "      <th>0</th>\n",
              "      <th>1</th>\n",
              "      <th>2</th>\n",
              "      <th>3</th>\n",
              "      <th>4</th>\n",
              "      <th>5</th>\n",
              "      <th>6</th>\n",
              "      <th>7</th>\n",
              "      <th>8</th>\n",
              "      <th>9</th>\n",
              "      <th>10</th>\n",
              "      <th>11</th>\n",
              "      <th>12</th>\n",
              "      <th>13</th>\n",
              "      <th>14</th>\n",
              "      <th>15</th>\n",
              "      <th>16</th>\n",
              "      <th>17</th>\n",
              "      <th>18</th>\n",
              "      <th>19</th>\n",
              "      <th>20</th>\n",
              "      <th>21</th>\n",
              "      <th>22</th>\n",
              "      <th>23</th>\n",
              "      <th>24</th>\n",
              "      <th>25</th>\n",
              "      <th>26</th>\n",
              "      <th>27</th>\n",
              "      <th>28</th>\n",
              "      <th>29</th>\n",
              "      <th>30</th>\n",
              "      <th>31</th>\n",
              "      <th>32</th>\n",
              "    </tr>\n",
              "  </thead>\n",
              "  <tbody>\n",
              "    <tr>\n",
              "      <th>cve_ent</th>\n",
              "      <td>1</td>\n",
              "      <td>2</td>\n",
              "      <td>3</td>\n",
              "      <td>4</td>\n",
              "      <td>7</td>\n",
              "      <td>8</td>\n",
              "      <td>9</td>\n",
              "      <td>5</td>\n",
              "      <td>6</td>\n",
              "      <td>10</td>\n",
              "      <td>11</td>\n",
              "      <td>12</td>\n",
              "      <td>13</td>\n",
              "      <td>14</td>\n",
              "      <td>15</td>\n",
              "      <td>16</td>\n",
              "      <td>17</td>\n",
              "      <td>18</td>\n",
              "      <td>19</td>\n",
              "      <td>20</td>\n",
              "      <td>21</td>\n",
              "      <td>22</td>\n",
              "      <td>23</td>\n",
              "      <td>24</td>\n",
              "      <td>25</td>\n",
              "      <td>26</td>\n",
              "      <td>27</td>\n",
              "      <td>28</td>\n",
              "      <td>29</td>\n",
              "      <td>30</td>\n",
              "      <td>31</td>\n",
              "      <td>32</td>\n",
              "      <td>0</td>\n",
              "    </tr>\n",
              "    <tr>\n",
              "      <th>poblacion</th>\n",
              "      <td>1434635</td>\n",
              "      <td>3634868</td>\n",
              "      <td>804708</td>\n",
              "      <td>1000617</td>\n",
              "      <td>5730367</td>\n",
              "      <td>3801487</td>\n",
              "      <td>9018645</td>\n",
              "      <td>3218720</td>\n",
              "      <td>785153</td>\n",
              "      <td>1868996</td>\n",
              "      <td>6228175</td>\n",
              "      <td>3657048</td>\n",
              "      <td>3086414</td>\n",
              "      <td>8409693</td>\n",
              "      <td>17427790</td>\n",
              "      <td>4825401</td>\n",
              "      <td>2044058</td>\n",
              "      <td>1288571</td>\n",
              "      <td>5610153</td>\n",
              "      <td>4143593</td>\n",
              "      <td>6604451</td>\n",
              "      <td>2279637</td>\n",
              "      <td>1723259</td>\n",
              "      <td>2866142</td>\n",
              "      <td>3156674</td>\n",
              "      <td>3074745</td>\n",
              "      <td>2572287</td>\n",
              "      <td>3650602</td>\n",
              "      <td>1380011</td>\n",
              "      <td>8539862</td>\n",
              "      <td>2259098</td>\n",
              "      <td>1666426</td>\n",
              "      <td>127792286</td>\n",
              "    </tr>\n",
              "    <tr>\n",
              "      <th>nombre</th>\n",
              "      <td>AGUASCALIENTES</td>\n",
              "      <td>BAJA CALIFORNIA</td>\n",
              "      <td>BAJA CALIFORNIA SUR</td>\n",
              "      <td>CAMPECHE</td>\n",
              "      <td>CHIAPAS</td>\n",
              "      <td>CHIHUAHUA</td>\n",
              "      <td>DISTRITO FEDERAL</td>\n",
              "      <td>COAHUILA</td>\n",
              "      <td>COLIMA</td>\n",
              "      <td>DURANGO</td>\n",
              "      <td>GUANAJUATO</td>\n",
              "      <td>GUERRERO</td>\n",
              "      <td>HIDALGO</td>\n",
              "      <td>JALISCO</td>\n",
              "      <td>MEXICO</td>\n",
              "      <td>MICHOACAN</td>\n",
              "      <td>MORELOS</td>\n",
              "      <td>NAYARIT</td>\n",
              "      <td>NUEVO LEON</td>\n",
              "      <td>OAXACA</td>\n",
              "      <td>PUEBLA</td>\n",
              "      <td>QUERETARO</td>\n",
              "      <td>QUINTANA ROO</td>\n",
              "      <td>SAN LUIS POTOSI</td>\n",
              "      <td>SINALOA</td>\n",
              "      <td>SONORA</td>\n",
              "      <td>TABASCO</td>\n",
              "      <td>TAMAULIPAS</td>\n",
              "      <td>TLAXCALA</td>\n",
              "      <td>VERACRUZ</td>\n",
              "      <td>YUCATAN</td>\n",
              "      <td>ZACATECAS</td>\n",
              "      <td>Nacional</td>\n",
              "    </tr>\n",
              "    <tr>\n",
              "      <th>12-01-2020</th>\n",
              "      <td>0</td>\n",
              "      <td>0</td>\n",
              "      <td>0</td>\n",
              "      <td>0</td>\n",
              "      <td>0</td>\n",
              "      <td>0</td>\n",
              "      <td>0</td>\n",
              "      <td>0</td>\n",
              "      <td>0</td>\n",
              "      <td>0</td>\n",
              "      <td>0</td>\n",
              "      <td>0</td>\n",
              "      <td>0</td>\n",
              "      <td>0</td>\n",
              "      <td>0</td>\n",
              "      <td>0</td>\n",
              "      <td>0</td>\n",
              "      <td>0</td>\n",
              "      <td>0</td>\n",
              "      <td>0</td>\n",
              "      <td>0</td>\n",
              "      <td>0</td>\n",
              "      <td>0</td>\n",
              "      <td>0</td>\n",
              "      <td>0</td>\n",
              "      <td>0</td>\n",
              "      <td>0</td>\n",
              "      <td>0</td>\n",
              "      <td>0</td>\n",
              "      <td>0</td>\n",
              "      <td>0</td>\n",
              "      <td>0</td>\n",
              "      <td>0</td>\n",
              "    </tr>\n",
              "    <tr>\n",
              "      <th>13-01-2020</th>\n",
              "      <td>0</td>\n",
              "      <td>0</td>\n",
              "      <td>0</td>\n",
              "      <td>0</td>\n",
              "      <td>0</td>\n",
              "      <td>0</td>\n",
              "      <td>0</td>\n",
              "      <td>0</td>\n",
              "      <td>0</td>\n",
              "      <td>0</td>\n",
              "      <td>0</td>\n",
              "      <td>0</td>\n",
              "      <td>0</td>\n",
              "      <td>0</td>\n",
              "      <td>0</td>\n",
              "      <td>0</td>\n",
              "      <td>0</td>\n",
              "      <td>0</td>\n",
              "      <td>1</td>\n",
              "      <td>0</td>\n",
              "      <td>0</td>\n",
              "      <td>0</td>\n",
              "      <td>0</td>\n",
              "      <td>0</td>\n",
              "      <td>0</td>\n",
              "      <td>0</td>\n",
              "      <td>0</td>\n",
              "      <td>0</td>\n",
              "      <td>0</td>\n",
              "      <td>0</td>\n",
              "      <td>0</td>\n",
              "      <td>0</td>\n",
              "      <td>1</td>\n",
              "    </tr>\n",
              "    <tr>\n",
              "      <th>...</th>\n",
              "      <td>...</td>\n",
              "      <td>...</td>\n",
              "      <td>...</td>\n",
              "      <td>...</td>\n",
              "      <td>...</td>\n",
              "      <td>...</td>\n",
              "      <td>...</td>\n",
              "      <td>...</td>\n",
              "      <td>...</td>\n",
              "      <td>...</td>\n",
              "      <td>...</td>\n",
              "      <td>...</td>\n",
              "      <td>...</td>\n",
              "      <td>...</td>\n",
              "      <td>...</td>\n",
              "      <td>...</td>\n",
              "      <td>...</td>\n",
              "      <td>...</td>\n",
              "      <td>...</td>\n",
              "      <td>...</td>\n",
              "      <td>...</td>\n",
              "      <td>...</td>\n",
              "      <td>...</td>\n",
              "      <td>...</td>\n",
              "      <td>...</td>\n",
              "      <td>...</td>\n",
              "      <td>...</td>\n",
              "      <td>...</td>\n",
              "      <td>...</td>\n",
              "      <td>...</td>\n",
              "      <td>...</td>\n",
              "      <td>...</td>\n",
              "      <td>...</td>\n",
              "    </tr>\n",
              "    <tr>\n",
              "      <th>08-09-2020</th>\n",
              "      <td>51</td>\n",
              "      <td>35</td>\n",
              "      <td>122</td>\n",
              "      <td>12</td>\n",
              "      <td>4</td>\n",
              "      <td>7</td>\n",
              "      <td>813</td>\n",
              "      <td>190</td>\n",
              "      <td>36</td>\n",
              "      <td>104</td>\n",
              "      <td>379</td>\n",
              "      <td>130</td>\n",
              "      <td>64</td>\n",
              "      <td>271</td>\n",
              "      <td>244</td>\n",
              "      <td>211</td>\n",
              "      <td>18</td>\n",
              "      <td>38</td>\n",
              "      <td>462</td>\n",
              "      <td>97</td>\n",
              "      <td>125</td>\n",
              "      <td>85</td>\n",
              "      <td>69</td>\n",
              "      <td>154</td>\n",
              "      <td>81</td>\n",
              "      <td>100</td>\n",
              "      <td>133</td>\n",
              "      <td>125</td>\n",
              "      <td>16</td>\n",
              "      <td>140</td>\n",
              "      <td>174</td>\n",
              "      <td>78</td>\n",
              "      <td>4568</td>\n",
              "    </tr>\n",
              "    <tr>\n",
              "      <th>09-09-2020</th>\n",
              "      <td>47</td>\n",
              "      <td>27</td>\n",
              "      <td>85</td>\n",
              "      <td>11</td>\n",
              "      <td>6</td>\n",
              "      <td>9</td>\n",
              "      <td>584</td>\n",
              "      <td>87</td>\n",
              "      <td>27</td>\n",
              "      <td>85</td>\n",
              "      <td>305</td>\n",
              "      <td>104</td>\n",
              "      <td>79</td>\n",
              "      <td>229</td>\n",
              "      <td>194</td>\n",
              "      <td>111</td>\n",
              "      <td>18</td>\n",
              "      <td>35</td>\n",
              "      <td>424</td>\n",
              "      <td>73</td>\n",
              "      <td>100</td>\n",
              "      <td>76</td>\n",
              "      <td>47</td>\n",
              "      <td>110</td>\n",
              "      <td>51</td>\n",
              "      <td>71</td>\n",
              "      <td>74</td>\n",
              "      <td>82</td>\n",
              "      <td>14</td>\n",
              "      <td>101</td>\n",
              "      <td>145</td>\n",
              "      <td>75</td>\n",
              "      <td>3486</td>\n",
              "    </tr>\n",
              "    <tr>\n",
              "      <th>10-09-2020</th>\n",
              "      <td>11</td>\n",
              "      <td>13</td>\n",
              "      <td>68</td>\n",
              "      <td>9</td>\n",
              "      <td>15</td>\n",
              "      <td>5</td>\n",
              "      <td>193</td>\n",
              "      <td>70</td>\n",
              "      <td>22</td>\n",
              "      <td>58</td>\n",
              "      <td>249</td>\n",
              "      <td>24</td>\n",
              "      <td>54</td>\n",
              "      <td>160</td>\n",
              "      <td>87</td>\n",
              "      <td>27</td>\n",
              "      <td>20</td>\n",
              "      <td>31</td>\n",
              "      <td>189</td>\n",
              "      <td>36</td>\n",
              "      <td>59</td>\n",
              "      <td>52</td>\n",
              "      <td>43</td>\n",
              "      <td>22</td>\n",
              "      <td>19</td>\n",
              "      <td>2</td>\n",
              "      <td>108</td>\n",
              "      <td>63</td>\n",
              "      <td>19</td>\n",
              "      <td>18</td>\n",
              "      <td>137</td>\n",
              "      <td>104</td>\n",
              "      <td>1987</td>\n",
              "    </tr>\n",
              "    <tr>\n",
              "      <th>11-09-2020</th>\n",
              "      <td>0</td>\n",
              "      <td>6</td>\n",
              "      <td>52</td>\n",
              "      <td>14</td>\n",
              "      <td>5</td>\n",
              "      <td>0</td>\n",
              "      <td>62</td>\n",
              "      <td>57</td>\n",
              "      <td>22</td>\n",
              "      <td>57</td>\n",
              "      <td>19</td>\n",
              "      <td>5</td>\n",
              "      <td>40</td>\n",
              "      <td>101</td>\n",
              "      <td>27</td>\n",
              "      <td>0</td>\n",
              "      <td>3</td>\n",
              "      <td>11</td>\n",
              "      <td>108</td>\n",
              "      <td>25</td>\n",
              "      <td>27</td>\n",
              "      <td>61</td>\n",
              "      <td>24</td>\n",
              "      <td>6</td>\n",
              "      <td>14</td>\n",
              "      <td>2</td>\n",
              "      <td>84</td>\n",
              "      <td>23</td>\n",
              "      <td>11</td>\n",
              "      <td>4</td>\n",
              "      <td>107</td>\n",
              "      <td>79</td>\n",
              "      <td>1056</td>\n",
              "    </tr>\n",
              "    <tr>\n",
              "      <th>12-09-2020</th>\n",
              "      <td>1</td>\n",
              "      <td>2</td>\n",
              "      <td>5</td>\n",
              "      <td>0</td>\n",
              "      <td>0</td>\n",
              "      <td>0</td>\n",
              "      <td>3</td>\n",
              "      <td>1</td>\n",
              "      <td>0</td>\n",
              "      <td>8</td>\n",
              "      <td>0</td>\n",
              "      <td>0</td>\n",
              "      <td>6</td>\n",
              "      <td>14</td>\n",
              "      <td>1</td>\n",
              "      <td>0</td>\n",
              "      <td>0</td>\n",
              "      <td>0</td>\n",
              "      <td>8</td>\n",
              "      <td>2</td>\n",
              "      <td>3</td>\n",
              "      <td>3</td>\n",
              "      <td>0</td>\n",
              "      <td>1</td>\n",
              "      <td>4</td>\n",
              "      <td>0</td>\n",
              "      <td>3</td>\n",
              "      <td>0</td>\n",
              "      <td>0</td>\n",
              "      <td>1</td>\n",
              "      <td>4</td>\n",
              "      <td>13</td>\n",
              "      <td>83</td>\n",
              "    </tr>\n",
              "  </tbody>\n",
              "</table>\n",
              "<p>248 rows × 33 columns</p>\n",
              "</div>"
            ],
            "text/plain": [
              "                        0                1   ...         31         32\n",
              "cve_ent                  1                2  ...         32          0\n",
              "poblacion          1434635          3634868  ...    1666426  127792286\n",
              "nombre      AGUASCALIENTES  BAJA CALIFORNIA  ...  ZACATECAS   Nacional\n",
              "12-01-2020               0                0  ...          0          0\n",
              "13-01-2020               0                0  ...          0          1\n",
              "...                    ...              ...  ...        ...        ...\n",
              "08-09-2020              51               35  ...         78       4568\n",
              "09-09-2020              47               27  ...         75       3486\n",
              "10-09-2020              11               13  ...        104       1987\n",
              "11-09-2020               0                6  ...         79       1056\n",
              "12-09-2020               1                2  ...         13         83\n",
              "\n",
              "[248 rows x 33 columns]"
            ]
          },
          "metadata": {
            "tags": []
          },
          "execution_count": 6
        }
      ]
    },
    {
      "cell_type": "code",
      "metadata": {
        "id": "EVcmzAGY8h7M",
        "colab_type": "code",
        "colab": {}
      },
      "source": [
        "daily_cases.columns = daily_cases.iloc[2]"
      ],
      "execution_count": 7,
      "outputs": []
    },
    {
      "cell_type": "code",
      "metadata": {
        "id": "guYFwpy--hDU",
        "colab_type": "code",
        "colab": {}
      },
      "source": [
        "daily_cases = daily_cases.drop('cve_ent')"
      ],
      "execution_count": 8,
      "outputs": []
    },
    {
      "cell_type": "code",
      "metadata": {
        "id": "-fbZojhgJVTB",
        "colab_type": "code",
        "colab": {}
      },
      "source": [
        "daily_cases = daily_cases.drop('poblacion')\n",
        "daily_cases = daily_cases.drop('nombre')"
      ],
      "execution_count": 9,
      "outputs": []
    },
    {
      "cell_type": "code",
      "metadata": {
        "id": "7sdrtAntLwA9",
        "colab_type": "code",
        "colab": {}
      },
      "source": [
        "puebla_cases = daily_cases['PUEBLA']"
      ],
      "execution_count": 16,
      "outputs": []
    },
    {
      "cell_type": "code",
      "metadata": {
        "id": "egDsm1h_lLhP",
        "colab_type": "code",
        "colab": {
          "base_uri": "https://localhost:8080/",
          "height": 34
        },
        "outputId": "bb17ae3f-0cb1-4ea3-a902-f40fef513ede"
      },
      "source": [
        "index = []\n",
        "for i in range(len(puebla_cases.index)):\n",
        "  index.append(i)\n",
        "  i+=1\n",
        "len(index)\n",
        "#create new index"
      ],
      "execution_count": 11,
      "outputs": [
        {
          "output_type": "execute_result",
          "data": {
            "text/plain": [
              "245"
            ]
          },
          "metadata": {
            "tags": []
          },
          "execution_count": 11
        }
      ]
    },
    {
      "cell_type": "code",
      "metadata": {
        "id": "1jyqRsWGmap5",
        "colab_type": "code",
        "colab": {
          "base_uri": "https://localhost:8080/",
          "height": 643
        },
        "outputId": "469f4b52-d32e-49bb-aa3f-f49f7f85c445"
      },
      "source": [
        "daily_cases"
      ],
      "execution_count": 13,
      "outputs": [
        {
          "output_type": "execute_result",
          "data": {
            "text/html": [
              "<div>\n",
              "<style scoped>\n",
              "    .dataframe tbody tr th:only-of-type {\n",
              "        vertical-align: middle;\n",
              "    }\n",
              "\n",
              "    .dataframe tbody tr th {\n",
              "        vertical-align: top;\n",
              "    }\n",
              "\n",
              "    .dataframe thead th {\n",
              "        text-align: right;\n",
              "    }\n",
              "</style>\n",
              "<table border=\"1\" class=\"dataframe\">\n",
              "  <thead>\n",
              "    <tr style=\"text-align: right;\">\n",
              "      <th>nombre</th>\n",
              "      <th>AGUASCALIENTES</th>\n",
              "      <th>BAJA CALIFORNIA</th>\n",
              "      <th>BAJA CALIFORNIA SUR</th>\n",
              "      <th>CAMPECHE</th>\n",
              "      <th>CHIAPAS</th>\n",
              "      <th>CHIHUAHUA</th>\n",
              "      <th>DISTRITO FEDERAL</th>\n",
              "      <th>COAHUILA</th>\n",
              "      <th>COLIMA</th>\n",
              "      <th>DURANGO</th>\n",
              "      <th>GUANAJUATO</th>\n",
              "      <th>GUERRERO</th>\n",
              "      <th>HIDALGO</th>\n",
              "      <th>JALISCO</th>\n",
              "      <th>MEXICO</th>\n",
              "      <th>MICHOACAN</th>\n",
              "      <th>MORELOS</th>\n",
              "      <th>NAYARIT</th>\n",
              "      <th>NUEVO LEON</th>\n",
              "      <th>OAXACA</th>\n",
              "      <th>PUEBLA</th>\n",
              "      <th>QUERETARO</th>\n",
              "      <th>QUINTANA ROO</th>\n",
              "      <th>SAN LUIS POTOSI</th>\n",
              "      <th>SINALOA</th>\n",
              "      <th>SONORA</th>\n",
              "      <th>TABASCO</th>\n",
              "      <th>TAMAULIPAS</th>\n",
              "      <th>TLAXCALA</th>\n",
              "      <th>VERACRUZ</th>\n",
              "      <th>YUCATAN</th>\n",
              "      <th>ZACATECAS</th>\n",
              "      <th>Nacional</th>\n",
              "    </tr>\n",
              "  </thead>\n",
              "  <tbody>\n",
              "    <tr>\n",
              "      <th>12-01-2020</th>\n",
              "      <td>0</td>\n",
              "      <td>0</td>\n",
              "      <td>0</td>\n",
              "      <td>0</td>\n",
              "      <td>0</td>\n",
              "      <td>0</td>\n",
              "      <td>0</td>\n",
              "      <td>0</td>\n",
              "      <td>0</td>\n",
              "      <td>0</td>\n",
              "      <td>0</td>\n",
              "      <td>0</td>\n",
              "      <td>0</td>\n",
              "      <td>0</td>\n",
              "      <td>0</td>\n",
              "      <td>0</td>\n",
              "      <td>0</td>\n",
              "      <td>0</td>\n",
              "      <td>0</td>\n",
              "      <td>0</td>\n",
              "      <td>0</td>\n",
              "      <td>0</td>\n",
              "      <td>0</td>\n",
              "      <td>0</td>\n",
              "      <td>0</td>\n",
              "      <td>0</td>\n",
              "      <td>0</td>\n",
              "      <td>0</td>\n",
              "      <td>0</td>\n",
              "      <td>0</td>\n",
              "      <td>0</td>\n",
              "      <td>0</td>\n",
              "      <td>0</td>\n",
              "    </tr>\n",
              "    <tr>\n",
              "      <th>13-01-2020</th>\n",
              "      <td>0</td>\n",
              "      <td>0</td>\n",
              "      <td>0</td>\n",
              "      <td>0</td>\n",
              "      <td>0</td>\n",
              "      <td>0</td>\n",
              "      <td>0</td>\n",
              "      <td>0</td>\n",
              "      <td>0</td>\n",
              "      <td>0</td>\n",
              "      <td>0</td>\n",
              "      <td>0</td>\n",
              "      <td>0</td>\n",
              "      <td>0</td>\n",
              "      <td>0</td>\n",
              "      <td>0</td>\n",
              "      <td>0</td>\n",
              "      <td>0</td>\n",
              "      <td>1</td>\n",
              "      <td>0</td>\n",
              "      <td>0</td>\n",
              "      <td>0</td>\n",
              "      <td>0</td>\n",
              "      <td>0</td>\n",
              "      <td>0</td>\n",
              "      <td>0</td>\n",
              "      <td>0</td>\n",
              "      <td>0</td>\n",
              "      <td>0</td>\n",
              "      <td>0</td>\n",
              "      <td>0</td>\n",
              "      <td>0</td>\n",
              "      <td>1</td>\n",
              "    </tr>\n",
              "    <tr>\n",
              "      <th>14-01-2020</th>\n",
              "      <td>0</td>\n",
              "      <td>0</td>\n",
              "      <td>0</td>\n",
              "      <td>0</td>\n",
              "      <td>0</td>\n",
              "      <td>0</td>\n",
              "      <td>0</td>\n",
              "      <td>0</td>\n",
              "      <td>0</td>\n",
              "      <td>0</td>\n",
              "      <td>0</td>\n",
              "      <td>0</td>\n",
              "      <td>0</td>\n",
              "      <td>0</td>\n",
              "      <td>0</td>\n",
              "      <td>0</td>\n",
              "      <td>0</td>\n",
              "      <td>0</td>\n",
              "      <td>0</td>\n",
              "      <td>0</td>\n",
              "      <td>0</td>\n",
              "      <td>0</td>\n",
              "      <td>0</td>\n",
              "      <td>0</td>\n",
              "      <td>0</td>\n",
              "      <td>0</td>\n",
              "      <td>0</td>\n",
              "      <td>0</td>\n",
              "      <td>0</td>\n",
              "      <td>0</td>\n",
              "      <td>0</td>\n",
              "      <td>0</td>\n",
              "      <td>0</td>\n",
              "    </tr>\n",
              "    <tr>\n",
              "      <th>15-01-2020</th>\n",
              "      <td>0</td>\n",
              "      <td>0</td>\n",
              "      <td>0</td>\n",
              "      <td>0</td>\n",
              "      <td>0</td>\n",
              "      <td>0</td>\n",
              "      <td>0</td>\n",
              "      <td>0</td>\n",
              "      <td>0</td>\n",
              "      <td>0</td>\n",
              "      <td>0</td>\n",
              "      <td>0</td>\n",
              "      <td>0</td>\n",
              "      <td>0</td>\n",
              "      <td>0</td>\n",
              "      <td>0</td>\n",
              "      <td>0</td>\n",
              "      <td>0</td>\n",
              "      <td>0</td>\n",
              "      <td>0</td>\n",
              "      <td>0</td>\n",
              "      <td>0</td>\n",
              "      <td>0</td>\n",
              "      <td>0</td>\n",
              "      <td>0</td>\n",
              "      <td>0</td>\n",
              "      <td>0</td>\n",
              "      <td>0</td>\n",
              "      <td>0</td>\n",
              "      <td>0</td>\n",
              "      <td>0</td>\n",
              "      <td>0</td>\n",
              "      <td>0</td>\n",
              "    </tr>\n",
              "    <tr>\n",
              "      <th>16-01-2020</th>\n",
              "      <td>0</td>\n",
              "      <td>0</td>\n",
              "      <td>0</td>\n",
              "      <td>0</td>\n",
              "      <td>0</td>\n",
              "      <td>0</td>\n",
              "      <td>0</td>\n",
              "      <td>0</td>\n",
              "      <td>0</td>\n",
              "      <td>0</td>\n",
              "      <td>0</td>\n",
              "      <td>0</td>\n",
              "      <td>0</td>\n",
              "      <td>0</td>\n",
              "      <td>0</td>\n",
              "      <td>0</td>\n",
              "      <td>0</td>\n",
              "      <td>0</td>\n",
              "      <td>0</td>\n",
              "      <td>0</td>\n",
              "      <td>0</td>\n",
              "      <td>0</td>\n",
              "      <td>0</td>\n",
              "      <td>0</td>\n",
              "      <td>0</td>\n",
              "      <td>0</td>\n",
              "      <td>0</td>\n",
              "      <td>0</td>\n",
              "      <td>0</td>\n",
              "      <td>0</td>\n",
              "      <td>0</td>\n",
              "      <td>0</td>\n",
              "      <td>0</td>\n",
              "    </tr>\n",
              "    <tr>\n",
              "      <th>...</th>\n",
              "      <td>...</td>\n",
              "      <td>...</td>\n",
              "      <td>...</td>\n",
              "      <td>...</td>\n",
              "      <td>...</td>\n",
              "      <td>...</td>\n",
              "      <td>...</td>\n",
              "      <td>...</td>\n",
              "      <td>...</td>\n",
              "      <td>...</td>\n",
              "      <td>...</td>\n",
              "      <td>...</td>\n",
              "      <td>...</td>\n",
              "      <td>...</td>\n",
              "      <td>...</td>\n",
              "      <td>...</td>\n",
              "      <td>...</td>\n",
              "      <td>...</td>\n",
              "      <td>...</td>\n",
              "      <td>...</td>\n",
              "      <td>...</td>\n",
              "      <td>...</td>\n",
              "      <td>...</td>\n",
              "      <td>...</td>\n",
              "      <td>...</td>\n",
              "      <td>...</td>\n",
              "      <td>...</td>\n",
              "      <td>...</td>\n",
              "      <td>...</td>\n",
              "      <td>...</td>\n",
              "      <td>...</td>\n",
              "      <td>...</td>\n",
              "      <td>...</td>\n",
              "    </tr>\n",
              "    <tr>\n",
              "      <th>08-09-2020</th>\n",
              "      <td>51</td>\n",
              "      <td>35</td>\n",
              "      <td>122</td>\n",
              "      <td>12</td>\n",
              "      <td>4</td>\n",
              "      <td>7</td>\n",
              "      <td>813</td>\n",
              "      <td>190</td>\n",
              "      <td>36</td>\n",
              "      <td>104</td>\n",
              "      <td>379</td>\n",
              "      <td>130</td>\n",
              "      <td>64</td>\n",
              "      <td>271</td>\n",
              "      <td>244</td>\n",
              "      <td>211</td>\n",
              "      <td>18</td>\n",
              "      <td>38</td>\n",
              "      <td>462</td>\n",
              "      <td>97</td>\n",
              "      <td>125</td>\n",
              "      <td>85</td>\n",
              "      <td>69</td>\n",
              "      <td>154</td>\n",
              "      <td>81</td>\n",
              "      <td>100</td>\n",
              "      <td>133</td>\n",
              "      <td>125</td>\n",
              "      <td>16</td>\n",
              "      <td>140</td>\n",
              "      <td>174</td>\n",
              "      <td>78</td>\n",
              "      <td>4568</td>\n",
              "    </tr>\n",
              "    <tr>\n",
              "      <th>09-09-2020</th>\n",
              "      <td>47</td>\n",
              "      <td>27</td>\n",
              "      <td>85</td>\n",
              "      <td>11</td>\n",
              "      <td>6</td>\n",
              "      <td>9</td>\n",
              "      <td>584</td>\n",
              "      <td>87</td>\n",
              "      <td>27</td>\n",
              "      <td>85</td>\n",
              "      <td>305</td>\n",
              "      <td>104</td>\n",
              "      <td>79</td>\n",
              "      <td>229</td>\n",
              "      <td>194</td>\n",
              "      <td>111</td>\n",
              "      <td>18</td>\n",
              "      <td>35</td>\n",
              "      <td>424</td>\n",
              "      <td>73</td>\n",
              "      <td>100</td>\n",
              "      <td>76</td>\n",
              "      <td>47</td>\n",
              "      <td>110</td>\n",
              "      <td>51</td>\n",
              "      <td>71</td>\n",
              "      <td>74</td>\n",
              "      <td>82</td>\n",
              "      <td>14</td>\n",
              "      <td>101</td>\n",
              "      <td>145</td>\n",
              "      <td>75</td>\n",
              "      <td>3486</td>\n",
              "    </tr>\n",
              "    <tr>\n",
              "      <th>10-09-2020</th>\n",
              "      <td>11</td>\n",
              "      <td>13</td>\n",
              "      <td>68</td>\n",
              "      <td>9</td>\n",
              "      <td>15</td>\n",
              "      <td>5</td>\n",
              "      <td>193</td>\n",
              "      <td>70</td>\n",
              "      <td>22</td>\n",
              "      <td>58</td>\n",
              "      <td>249</td>\n",
              "      <td>24</td>\n",
              "      <td>54</td>\n",
              "      <td>160</td>\n",
              "      <td>87</td>\n",
              "      <td>27</td>\n",
              "      <td>20</td>\n",
              "      <td>31</td>\n",
              "      <td>189</td>\n",
              "      <td>36</td>\n",
              "      <td>59</td>\n",
              "      <td>52</td>\n",
              "      <td>43</td>\n",
              "      <td>22</td>\n",
              "      <td>19</td>\n",
              "      <td>2</td>\n",
              "      <td>108</td>\n",
              "      <td>63</td>\n",
              "      <td>19</td>\n",
              "      <td>18</td>\n",
              "      <td>137</td>\n",
              "      <td>104</td>\n",
              "      <td>1987</td>\n",
              "    </tr>\n",
              "    <tr>\n",
              "      <th>11-09-2020</th>\n",
              "      <td>0</td>\n",
              "      <td>6</td>\n",
              "      <td>52</td>\n",
              "      <td>14</td>\n",
              "      <td>5</td>\n",
              "      <td>0</td>\n",
              "      <td>62</td>\n",
              "      <td>57</td>\n",
              "      <td>22</td>\n",
              "      <td>57</td>\n",
              "      <td>19</td>\n",
              "      <td>5</td>\n",
              "      <td>40</td>\n",
              "      <td>101</td>\n",
              "      <td>27</td>\n",
              "      <td>0</td>\n",
              "      <td>3</td>\n",
              "      <td>11</td>\n",
              "      <td>108</td>\n",
              "      <td>25</td>\n",
              "      <td>27</td>\n",
              "      <td>61</td>\n",
              "      <td>24</td>\n",
              "      <td>6</td>\n",
              "      <td>14</td>\n",
              "      <td>2</td>\n",
              "      <td>84</td>\n",
              "      <td>23</td>\n",
              "      <td>11</td>\n",
              "      <td>4</td>\n",
              "      <td>107</td>\n",
              "      <td>79</td>\n",
              "      <td>1056</td>\n",
              "    </tr>\n",
              "    <tr>\n",
              "      <th>12-09-2020</th>\n",
              "      <td>1</td>\n",
              "      <td>2</td>\n",
              "      <td>5</td>\n",
              "      <td>0</td>\n",
              "      <td>0</td>\n",
              "      <td>0</td>\n",
              "      <td>3</td>\n",
              "      <td>1</td>\n",
              "      <td>0</td>\n",
              "      <td>8</td>\n",
              "      <td>0</td>\n",
              "      <td>0</td>\n",
              "      <td>6</td>\n",
              "      <td>14</td>\n",
              "      <td>1</td>\n",
              "      <td>0</td>\n",
              "      <td>0</td>\n",
              "      <td>0</td>\n",
              "      <td>8</td>\n",
              "      <td>2</td>\n",
              "      <td>3</td>\n",
              "      <td>3</td>\n",
              "      <td>0</td>\n",
              "      <td>1</td>\n",
              "      <td>4</td>\n",
              "      <td>0</td>\n",
              "      <td>3</td>\n",
              "      <td>0</td>\n",
              "      <td>0</td>\n",
              "      <td>1</td>\n",
              "      <td>4</td>\n",
              "      <td>13</td>\n",
              "      <td>83</td>\n",
              "    </tr>\n",
              "  </tbody>\n",
              "</table>\n",
              "<p>245 rows × 33 columns</p>\n",
              "</div>"
            ],
            "text/plain": [
              "nombre     AGUASCALIENTES BAJA CALIFORNIA  ... ZACATECAS Nacional\n",
              "12-01-2020              0               0  ...         0        0\n",
              "13-01-2020              0               0  ...         0        1\n",
              "14-01-2020              0               0  ...         0        0\n",
              "15-01-2020              0               0  ...         0        0\n",
              "16-01-2020              0               0  ...         0        0\n",
              "...                   ...             ...  ...       ...      ...\n",
              "08-09-2020             51              35  ...        78     4568\n",
              "09-09-2020             47              27  ...        75     3486\n",
              "10-09-2020             11              13  ...       104     1987\n",
              "11-09-2020              0               6  ...        79     1056\n",
              "12-09-2020              1               2  ...        13       83\n",
              "\n",
              "[245 rows x 33 columns]"
            ]
          },
          "metadata": {
            "tags": []
          },
          "execution_count": 13
        }
      ]
    },
    {
      "cell_type": "code",
      "metadata": {
        "id": "TI7E9n57ni7n",
        "colab_type": "code",
        "colab": {}
      },
      "source": [
        "puebla_cases.index = index"
      ],
      "execution_count": 17,
      "outputs": []
    },
    {
      "cell_type": "code",
      "metadata": {
        "id": "9h4o3Wg8o4HC",
        "colab_type": "code",
        "colab": {
          "base_uri": "https://localhost:8080/",
          "height": 34
        },
        "outputId": "b4b7fead-9569-4528-fe06-c85fda7d66c8"
      },
      "source": [
        "total_cases = []\n",
        "n = 0\n",
        "for i in puebla_cases:\n",
        "  n+=i\n",
        "  total_cases.append(n)\n",
        "len(total_cases)"
      ],
      "execution_count": 21,
      "outputs": [
        {
          "output_type": "execute_result",
          "data": {
            "text/plain": [
              "245"
            ]
          },
          "metadata": {
            "tags": []
          },
          "execution_count": 21
        }
      ]
    },
    {
      "cell_type": "code",
      "metadata": {
        "id": "l33bQozkpnun",
        "colab_type": "code",
        "colab": {}
      },
      "source": [
        "puebla_cases = total_cases"
      ],
      "execution_count": 27,
      "outputs": []
    },
    {
      "cell_type": "code",
      "metadata": {
        "id": "cESq-1V_FF4J",
        "colab_type": "code",
        "colab": {
          "base_uri": "https://localhost:8080/",
          "height": 282
        },
        "outputId": "d226b43e-887a-4520-afe4-743d3f08ba47"
      },
      "source": [
        "plt.plot(puebla_cases)"
      ],
      "execution_count": 29,
      "outputs": [
        {
          "output_type": "execute_result",
          "data": {
            "text/plain": [
              "[<matplotlib.lines.Line2D at 0x7f8dd6582ac8>]"
            ]
          },
          "metadata": {
            "tags": []
          },
          "execution_count": 29
        },
        {
          "output_type": "display_data",
          "data": {
            "image/png": "[encoded data removed]",
            "text/plain": [
              "<Figure size 432x288 with 1 Axes>"
            ]
          },
          "metadata": {
            "tags": [],
            "needs_background": "light"
          }
        }
      ]
    },
    {
      "cell_type": "code",
      "metadata": {
        "id": "FPUeQj_OFcdl",
        "colab_type": "code",
        "colab": {
          "base_uri": "https://localhost:8080/",
          "height": 34
        },
        "outputId": "dbcd4a49-4653-4357-f215-90318e256ba6"
      },
      "source": [
        "test_point = np.round(len(puebla_cases)*.1) #Pasamos el 10% de nuestra información para probar nuestro modelo\n",
        "test_point"
      ],
      "execution_count": 30,
      "outputs": [
        {
          "output_type": "execute_result",
          "data": {
            "text/plain": [
              "24.0"
            ]
          },
          "metadata": {
            "tags": []
          },
          "execution_count": 30
        }
      ]
    },
    {
      "cell_type": "code",
      "metadata": {
        "id": "KTGuW5NbGSS-",
        "colab_type": "code",
        "colab": {}
      },
      "source": [
        "test_ind = int(len(puebla_cases) - test_point)"
      ],
      "execution_count": 32,
      "outputs": []
    },
    {
      "cell_type": "code",
      "metadata": {
        "id": "zIe2Rhi9GUUO",
        "colab_type": "code",
        "colab": {}
      },
      "source": [
        "train = puebla_cases[:test_ind]\n",
        "test = puebla_cases[test_ind:]\n",
        "#Dividimos train y test data"
      ],
      "execution_count": 35,
      "outputs": []
    },
    {
      "cell_type": "code",
      "metadata": {
        "id": "E4TMfQNuGb-m",
        "colab_type": "code",
        "colab": {}
      },
      "source": [
        "from sklearn.preprocessing import MinMaxScaler"
      ],
      "execution_count": 36,
      "outputs": []
    },
    {
      "cell_type": "code",
      "metadata": {
        "id": "b8ZFLVD4GmuE",
        "colab_type": "code",
        "colab": {}
      },
      "source": [
        "scaler = MinMaxScaler()"
      ],
      "execution_count": 37,
      "outputs": []
    },
    {
      "cell_type": "code",
      "metadata": {
        "id": "nPbUS7qvGp5M",
        "colab_type": "code",
        "colab": {
          "base_uri": "https://localhost:8080/",
          "height": 34
        },
        "outputId": "0bfd0b0c-fd51-423b-f6cd-6ebf37d6d5f9"
      },
      "source": [
        "scaler.fit(np.reshape(train,(221,1)))"
      ],
      "execution_count": 40,
      "outputs": [
        {
          "output_type": "execute_result",
          "data": {
            "text/plain": [
              "MinMaxScaler(copy=True, feature_range=(0, 1))"
            ]
          },
          "metadata": {
            "tags": []
          },
          "execution_count": 40
        }
      ]
    },
    {
      "cell_type": "code",
      "metadata": {
        "id": "7jgC11VTGrQ8",
        "colab_type": "code",
        "colab": {}
      },
      "source": [
        "scaled_train = scaler.transform(np.reshape(train,(221,1)))\n",
        "scaled_test = scaler.transform(np.reshape(test,(24,1)))"
      ],
      "execution_count": 43,
      "outputs": []
    },
    {
      "cell_type": "code",
      "metadata": {
        "id": "nRg9sNfUHAoK",
        "colab_type": "code",
        "colab": {}
      },
      "source": [
        "from tensorflow.keras.preprocessing.sequence import TimeseriesGenerator"
      ],
      "execution_count": 44,
      "outputs": []
    },
    {
      "cell_type": "code",
      "metadata": {
        "id": "MP1iaD2XHGUx",
        "colab_type": "code",
        "colab": {}
      },
      "source": [
        "length_of_pred = 20 #Datos que se tomarán para predecir valor futuro\n",
        "batch_size = 1 #Cantidades a predecir"
      ],
      "execution_count": 52,
      "outputs": []
    },
    {
      "cell_type": "code",
      "metadata": {
        "id": "kFqk2zASHe33",
        "colab_type": "code",
        "colab": {}
      },
      "source": [
        "enerator = TimeseriesGenerator(scaled_train,scaled_train,\n",
        "                               length=length_of_pred,batch_size=1)\n",
        "\n",
        "\n",
        "validation_generator = TimeseriesGenerator(scaled_test,scaled_test,\n",
        "                                          length=length_of_pred,batch_size=1)"
      ],
      "execution_count": 53,
      "outputs": []
    },
    {
      "cell_type": "code",
      "metadata": {
        "id": "8pFnLoP-HirP",
        "colab_type": "code",
        "colab": {}
      },
      "source": [
        "from tensorflow.keras.models import Sequential\n",
        "from tensorflow.keras.layers import Dense,LSTM,SimpleRNN, LSTM"
      ],
      "execution_count": 48,
      "outputs": []
    },
    {
      "cell_type": "code",
      "metadata": {
        "id": "D28XdCnWHkme",
        "colab_type": "code",
        "colab": {}
      },
      "source": [
        "n_features = 1"
      ],
      "execution_count": 49,
      "outputs": []
    },
    {
      "cell_type": "code",
      "metadata": {
        "id": "YWwNKsYnH4JX",
        "colab_type": "code",
        "colab": {}
      },
      "source": [
        "model = Sequential()\n",
        "model.add(LSTM(50,input_shape=(length_of_pred,n_features)))\n",
        "model.add(Dense(1))\n",
        "model.compile(optimizer='adam',loss='mse')"
      ],
      "execution_count": 79,
      "outputs": []
    },
    {
      "cell_type": "code",
      "metadata": {
        "id": "bWx5-_D6INiW",
        "colab_type": "code",
        "colab": {}
      },
      "source": [
        "from tensorflow.keras.callbacks import EarlyStopping"
      ],
      "execution_count": 80,
      "outputs": []
    },
    {
      "cell_type": "code",
      "metadata": {
        "id": "VmUlkaFaIzg0",
        "colab_type": "code",
        "colab": {}
      },
      "source": [
        "early_stop = EarlyStopping(monitor='val_loss',patience=2)"
      ],
      "execution_count": 81,
      "outputs": []
    },
    {
      "cell_type": "code",
      "metadata": {
        "id": "NN644vluI5Gi",
        "colab_type": "code",
        "colab": {
          "base_uri": "https://localhost:8080/",
          "height": 136
        },
        "outputId": "005a5331-f9ad-4730-a83f-c07521978403"
      },
      "source": [
        "model.fit(generator,epochs=20,\n",
        "                   validation_data=validation_generator,\n",
        "                   callbacks=[early_stop])\n",
        "#Entrenamos el modelo"
      ],
      "execution_count": 82,
      "outputs": [
        {
          "output_type": "stream",
          "text": [
            "Epoch 1/20\n",
            "171/171 [==============================] - 4s 21ms/step - loss: 0.0591 - val_loss: 4.6655e-05\n",
            "Epoch 2/20\n",
            "171/171 [==============================] - 3s 18ms/step - loss: 0.0010 - val_loss: 0.0027\n",
            "Epoch 3/20\n",
            "171/171 [==============================] - 3s 18ms/step - loss: 2.8891e-04 - val_loss: 0.0022\n"
          ],
          "name": "stdout"
        },
        {
          "output_type": "execute_result",
          "data": {
            "text/plain": [
              "<tensorflow.python.keras.callbacks.History at 0x7f8d8fd6d898>"
            ]
          },
          "metadata": {
            "tags": []
          },
          "execution_count": 82
        }
      ]
    },
    {
      "cell_type": "code",
      "metadata": {
        "id": "8r6c58bHI-8A",
        "colab_type": "code",
        "colab": {
          "base_uri": "https://localhost:8080/",
          "height": 282
        },
        "outputId": "d8b914da-6780-47e8-d8ef-e31f527e2332"
      },
      "source": [
        "plt.style.use('dark_background')\n",
        "losses = pd.DataFrame(model.history.history)\n",
        "losses.plot() #Vemos como bajó el error de nuestro modelo durante el entrenamiento"
      ],
      "execution_count": 83,
      "outputs": [
        {
          "output_type": "execute_result",
          "data": {
            "text/plain": [
              "<matplotlib.axes._subplots.AxesSubplot at 0x7f8d8f9c57b8>"
            ]
          },
          "metadata": {
            "tags": []
          },
          "execution_count": 83
        },
        {
          "output_type": "display_data",
          "data": {
            "image/png": "[encoded data removed]",
            "text/plain": [
              "<Figure size 432x288 with 1 Axes>"
            ]
          },
          "metadata": {
            "tags": []
          }
        }
      ]
    },
    {
      "cell_type": "code",
      "metadata": {
        "id": "pZphaiGsJTqz",
        "colab_type": "code",
        "colab": {}
      },
      "source": [
        "test_predictions = []\n",
        "\n",
        "first_eval_batch = scaled_train[-length_of_pred:]\n",
        "current_batch = first_eval_batch.reshape((1, length_of_pred, n_features))\n",
        "\n",
        "for i in range(len(test)):\n",
        "    current_pred = model.predict(current_batch)[0]\n",
        "    test_predictions.append(current_pred)\n",
        "    current_batch = np.append(current_batch[:,1:,:],[[current_pred]],axis=1)\n",
        "    #Creamos la lista con las predicciones de nuestro modelo"
      ],
      "execution_count": 84,
      "outputs": []
    },
    {
      "cell_type": "code",
      "metadata": {
        "id": "iWYZp8MGJhft",
        "colab_type": "code",
        "colab": {}
      },
      "source": [
        "true_predictions = scaler.inverse_transform(test_predictions)\n",
        "predicciones = pd.DataFrame(test)"
      ],
      "execution_count": 85,
      "outputs": []
    },
    {
      "cell_type": "code",
      "metadata": {
        "id": "UMcUkWA_J5Yu",
        "colab_type": "code",
        "colab": {}
      },
      "source": [
        "predicciones.columns = ['Predicciones Verdaderas']"
      ],
      "execution_count": 86,
      "outputs": []
    },
    {
      "cell_type": "code",
      "metadata": {
        "id": "I9jgm36MKHhu",
        "colab_type": "code",
        "colab": {}
      },
      "source": [
        "predicciones['Predicción de Modelo'] = true_predictions"
      ],
      "execution_count": 87,
      "outputs": []
    },
    {
      "cell_type": "code",
      "metadata": {
        "id": "94C_8sbNKRv0",
        "colab_type": "code",
        "colab": {
          "base_uri": "https://localhost:8080/",
          "height": 282
        },
        "outputId": "311322eb-2784-4f8d-d42e-74b0c10085d5"
      },
      "source": [
        "predicciones.plot()"
      ],
      "execution_count": 88,
      "outputs": [
        {
          "output_type": "execute_result",
          "data": {
            "text/plain": [
              "<matplotlib.axes._subplots.AxesSubplot at 0x7f8d8e13a048>"
            ]
          },
          "metadata": {
            "tags": []
          },
          "execution_count": 88
        },
        {
          "output_type": "display_data",
          "data": {
            "image/png": "[encoded data removed]",
            "text/plain": [
              "<Figure size 432x288 with 1 Axes>"
            ]
          },
          "metadata": {
            "tags": []
          }
        }
      ]
    },
    {
      "cell_type": "code",
      "metadata": {
        "id": "5kNA00nTKaff",
        "colab_type": "code",
        "colab": {}
      },
      "source": [
        ""
      ],
      "execution_count": null,
      "outputs": []
    }
  ]
}